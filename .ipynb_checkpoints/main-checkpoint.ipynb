{
 "cells": [
  {
   "cell_type": "code",
   "execution_count": null,
   "metadata": {
    "collapsed": true
   },
   "outputs": [],
   "source": [
    "from nltk.tokenize import sent_tokenize, word_tokenize\n",
    "from nltk.corpus import stopwords"
   ]
  },
  {
   "cell_type": "code",
   "execution_count": null,
   "metadata": {
    "collapsed": true
   },
   "outputs": [],
   "source": [
    "from collections import defaultdict"
   ]
  },
  {
   "cell_type": "code",
   "execution_count": null,
   "metadata": {
    "collapsed": true
   },
   "outputs": [],
   "source": [
    "from string import punctuation"
   ]
  },
  {
   "cell_type": "code",
   "execution_count": null,
   "metadata": {
    "collapsed": true
   },
   "outputs": [],
   "source": [
    "from heapq import nlargest"
   ]
  },
  {
   "cell_type": "code",
   "execution_count": null,
   "metadata": {
    "collapsed": true
   },
   "outputs": [],
   "source": [
    "class FrequencySummarizer:\n",
    "    def __init__(self, min_cut=0.1, max_cut=0.9):\n",
    "        self._min_cut = min_cut\n",
    "        self._max_cut = max_cut\n",
    "        \n",
    "        self._stopwords = set(stopwords.words('english') + list(punctuation))\n",
    "        \n",
    "    def _compute_frequencies(self, word_sent):\n",
    "        freq = defaultdict(int)\n",
    "        \n",
    "        for sentence in word_sent:\n",
    "            for word in sentence:\n",
    "                if word not in self._stopwords:\n",
    "                    freq[word] += 1\n",
    "                    \n",
    "    \n",
    "        max_freq = float(max(freq.values()))\n",
    "        for word in freq.keys():\n",
    "            freq[word] = freq[word] / max_freq\n",
    "            if freq[word] >= self._max_cut or freq[word] <= self._min_cut:\n",
    "                del freq[word]\n",
    "                \n",
    "        return freq\n",
    "    \n",
    "    def summarize(self, text, n):\n",
    "        sents = sent_tokenize(text)\n",
    "        assert n <= len(sents)\n",
    "        \n",
    "        word_sent = [word_tokenize(s.lower()) for s in sents]\n",
    "        self._freq = self._compute_frequencies(word_sent)\n",
    "        \n",
    "        ranking = defaultdict(int)\n",
    "        \n",
    "        for i, sent in enumerate(word_sent):\n",
    "            for word in sent:\n",
    "                if word in self._freq:\n",
    "                    ranking[i] += self._freq[word]\n",
    "                    \n",
    "        sents_idx = nlargest(n, ranking, key = ranking.get)\n",
    "        \n",
    "        return '. '.join([sents[j] for j in sents_idx])"
   ]
  },
  {
   "cell_type": "code",
   "execution_count": null,
   "metadata": {
    "collapsed": true
   },
   "outputs": [],
   "source": [
    "import requests\n",
    "from bs4 import BeautifulSoup"
   ]
  },
  {
   "cell_type": "code",
   "execution_count": null,
   "metadata": {
    "collapsed": false
   },
   "outputs": [],
   "source": [
    "def get_only_text_washingtonpost_url(url):\n",
    "    page = requests.get(url).content\n",
    "    soup = BeautifulSoup(page, \"lxml\")\n",
    "    \n",
    "    #This part is specific to Wasington Post\n",
    "    \n",
    "    text = ' '.join(map(lambda p: p.text, soup.find_all('article')))\n",
    "    \n",
    "    #clean up <p> tags\n",
    "    soup2 = BeautifulSoup(text, \"lxml\")\n",
    "    text = ' '.join(map(lambda p: p.text, soup2.find_all('p')))\n",
    "    return soup.title.text, text"
   ]
  },
  {
   "cell_type": "code",
   "execution_count": null,
   "metadata": {
    "collapsed": true
   },
   "outputs": [],
   "source": [
    "someUrl = \"https://www.washingtonpost.com/world/national-security/trump-weighing-military-options-following-chemical-weapons-attack-in-syria/2017/04/06/0c59603a-1ae8-11e7-9887-1a5314b56a08_story.html?hpid=hp_hp-top-table-main_syria-315pm%3Ahomepage%2Fstory&utm_term=.8237939434e2\""
   ]
  },
  {
   "cell_type": "code",
   "execution_count": null,
   "metadata": {
    "collapsed": false
   },
   "outputs": [],
   "source": [
    "textOfUrl = get_only_text_washingtonpost_url(someUrl)"
   ]
  },
  {
   "cell_type": "code",
   "execution_count": null,
   "metadata": {
    "collapsed": false
   },
   "outputs": [],
   "source": [
    "fs = FrequencySummarizer()\n",
    "summary = fs.summarize(textOfUrl[1], 3)"
   ]
  },
  {
   "cell_type": "code",
   "execution_count": null,
   "metadata": {
    "collapsed": false
   },
   "outputs": [],
   "source": [
    "summary"
   ]
  }
 ],
 "metadata": {
  "kernelspec": {
   "display_name": "Python 2",
   "language": "python",
   "name": "python2"
  },
  "language_info": {
   "codemirror_mode": {
    "name": "ipython",
    "version": 2
   },
   "file_extension": ".py",
   "mimetype": "text/x-python",
   "name": "python",
   "nbconvert_exporter": "python",
   "pygments_lexer": "ipython2",
   "version": "2.7.13"
  }
 },
 "nbformat": 4,
 "nbformat_minor": 2
}
